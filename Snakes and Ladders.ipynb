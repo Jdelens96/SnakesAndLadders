{
 "cells": [
  {
   "cell_type": "code",
   "execution_count": 86,
   "id": "c71f7042",
   "metadata": {},
   "outputs": [],
   "source": [
    "from random import randint"
   ]
  },
  {
   "cell_type": "code",
   "execution_count": 90,
   "id": "d42270ca",
   "metadata": {},
   "outputs": [],
   "source": [
    "# Initialize a class which handles the game \n",
    "class SnakesAndLadders:\n",
    "    # define snake and ladders start to finish numbers \n",
    "    # using a dictionay key:value pairing.\n",
    "    snakes = {\n",
    "        27:5,\n",
    "        40:3,\n",
    "        43:18,\n",
    "        54:31,\n",
    "        66:45,\n",
    "        76:58,\n",
    "        89:53,\n",
    "        99:41\n",
    "    }\n",
    "    \n",
    "    ladders = {\n",
    "        4:25,\n",
    "        13:46,\n",
    "        33:49,\n",
    "        42:63,\n",
    "        50:69,\n",
    "        62:81,\n",
    "        74:92\n",
    "    }\n",
    "    \n",
    "    \n",
    "    last_sqr = 100\n",
    "    # Verbose allows us to see what is happening throughout the game rather than just the end\n",
    "    def __init__(self, no_players, pointers, verbose = False):\n",
    "        self.no_players = no_players\n",
    "        self.verbose = verbose\n",
    "        self.players = [0] * no_players # Players can ber represented by the square they are on \n",
    "        self.turn = 0 # Keeps track of whose turn it is \n",
    "        self.winner = None  # Used to determine if the game is over\n",
    "        self.colors = []\n",
    "        for color in pointers:\n",
    "            self.colors.append(color)\n",
    "        \n",
    "    # Initialize a method for the die roll value\n",
    "    def die_roll(self): \n",
    "        return randint(1,6)\n",
    "    \n",
    "    def move_player(self, player_idx):\n",
    "        prev_pos = self.players[player_idx]\n",
    "        updated_pos = prev_pos + self.die_roll()\n",
    "        \n",
    "        if updated_pos >= self.last_sqr:\n",
    "            self.winner = player_idx\n",
    "            updated_pos = self.last_sqr\n",
    "            \n",
    "        elif updated_pos in self.snakes:\n",
    "            updated_pos = self.snakes[updated_pos]\n",
    "            \n",
    "        elif updated_pos in self.ladders:\n",
    "            updated_pos = self.ladders[updated_pos]\n",
    "    \n",
    "        self.players[player_idx] = updated_pos\n",
    "        \n",
    "    def move_players(self):\n",
    "        for player_idx in range(self.no_players):\n",
    "            self.move_player(player_idx)\n",
    "            if self.winner is not None:\n",
    "                break\n",
    "                \n",
    "    # Initializes game to run until we have a winner           \n",
    "    def play_game(self):\n",
    "        while self.winner is None:\n",
    "            self.turn += 1\n",
    "            self.move_players()\n",
    "            if self.verbose:\n",
    "                self.print_turn()\n",
    "        return f'{self.colors[self.winner]} wins!!!'\n",
    "    \n",
    "    \n",
    "    def print_turn(self):\n",
    "        # Prints the round we are on\n",
    "        print(f'Turn {self.turn}')\n",
    "        \n",
    "        # Sorts the players by board position \n",
    "        pos_and_player = [(pos, player) for player, pos in enumerate(self.players)]\n",
    "        pos_and_player.sort(reverse = True)\n",
    "        \n",
    "        # Prints players by position \n",
    "        player_pos_str = ' | '.join([f'({self.colors[player]}) {pos}' for pos, player in pos_and_player])\n",
    "        print(player_pos_str)"
   ]
  },
  {
   "cell_type": "code",
   "execution_count": 91,
   "id": "4cab24c0",
   "metadata": {},
   "outputs": [],
   "source": [
    "game = SnakesAndLadders(no_players = 4, pointers = ['Red', 'Blue', 'Green', 'Yellow'], verbose = True)"
   ]
  },
  {
   "cell_type": "code",
   "execution_count": 92,
   "id": "f6961fdd",
   "metadata": {},
   "outputs": [
    {
     "name": "stdout",
     "output_type": "stream",
     "text": [
      "Turn 1\n",
      "(Yellow) 6 | (Green) 5 | (Red) 5 | (Blue) 1\n",
      "Turn 2\n",
      "(Yellow) 12 | (Red) 10 | (Green) 7 | (Blue) 3\n",
      "Turn 3\n",
      "(Blue) 25 | (Red) 15 | (Yellow) 14 | (Green) 12\n",
      "Turn 4\n",
      "(Blue) 26 | (Red) 19 | (Yellow) 16 | (Green) 14\n",
      "Turn 5\n",
      "(Blue) 31 | (Red) 21 | (Yellow) 20 | (Green) 15\n",
      "Turn 6\n",
      "(Blue) 34 | (Yellow) 25 | (Red) 25 | (Green) 17\n",
      "Turn 7\n",
      "(Blue) 38 | (Red) 30 | (Yellow) 28 | (Green) 23\n",
      "Turn 8\n",
      "(Blue) 44 | (Red) 32 | (Yellow) 31 | (Green) 29\n",
      "Turn 9\n",
      "(Yellow) 49 | (Blue) 46 | (Red) 38 | (Green) 30\n",
      "Turn 10\n",
      "(Blue) 69 | (Yellow) 52 | (Red) 44 | (Green) 36\n",
      "Turn 11\n",
      "(Blue) 70 | (Red) 69 | (Green) 63 | (Yellow) 31\n",
      "Turn 12\n",
      "(Blue) 73 | (Red) 70 | (Green) 65 | (Yellow) 36\n",
      "Turn 13\n",
      "(Green) 69 | (Blue) 58 | (Red) 58 | (Yellow) 38\n",
      "Turn 14\n",
      "(Green) 70 | (Blue) 64 | (Red) 64 | (Yellow) 3\n",
      "Turn 15\n",
      "(Green) 92 | (Blue) 70 | (Red) 70 | (Yellow) 7\n",
      "Turn 16\n",
      "(Green) 96 | (Red) 75 | (Blue) 71 | (Yellow) 12\n",
      "Turn 17\n",
      "(Green) 97 | (Red) 77 | (Blue) 72 | (Yellow) 18\n",
      "Turn 18\n",
      "(Green) 98 | (Red) 79 | (Blue) 73 | (Yellow) 19\n",
      "Turn 19\n",
      "(Green) 100 | (Red) 82 | (Blue) 79 | (Yellow) 19\n"
     ]
    },
    {
     "data": {
      "text/plain": [
       "'Green wins!!!'"
      ]
     },
     "execution_count": 92,
     "metadata": {},
     "output_type": "execute_result"
    }
   ],
   "source": [
    "game.play_game()"
   ]
  },
  {
   "cell_type": "code",
   "execution_count": null,
   "id": "477a8f8b",
   "metadata": {},
   "outputs": [],
   "source": []
  },
  {
   "cell_type": "code",
   "execution_count": null,
   "id": "b7aa49fc",
   "metadata": {},
   "outputs": [],
   "source": []
  },
  {
   "cell_type": "code",
   "execution_count": null,
   "id": "ba4b10f4",
   "metadata": {},
   "outputs": [],
   "source": []
  },
  {
   "cell_type": "code",
   "execution_count": null,
   "id": "8478b93f",
   "metadata": {},
   "outputs": [],
   "source": []
  },
  {
   "cell_type": "code",
   "execution_count": null,
   "id": "515aa393",
   "metadata": {},
   "outputs": [],
   "source": []
  },
  {
   "cell_type": "code",
   "execution_count": null,
   "id": "78a6efa4",
   "metadata": {},
   "outputs": [],
   "source": []
  }
 ],
 "metadata": {
  "kernelspec": {
   "display_name": "Python 3 (ipykernel)",
   "language": "python",
   "name": "python3"
  },
  "language_info": {
   "codemirror_mode": {
    "name": "ipython",
    "version": 3
   },
   "file_extension": ".py",
   "mimetype": "text/x-python",
   "name": "python",
   "nbconvert_exporter": "python",
   "pygments_lexer": "ipython3",
   "version": "3.9.13"
  }
 },
 "nbformat": 4,
 "nbformat_minor": 5
}
